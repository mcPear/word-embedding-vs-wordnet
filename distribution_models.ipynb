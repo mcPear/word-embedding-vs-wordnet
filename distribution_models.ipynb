{
 "cells": [
  {
   "cell_type": "code",
   "execution_count": 7,
   "metadata": {},
   "outputs": [
    {
     "name": "stdout",
     "output_type": "stream",
     "text": [
      "Collecting pymagnitude\n",
      "  Downloading https://files.pythonhosted.org/packages/0a/a3/b9a34d22ed8c0ed59b00ff55092129641cdfa09d82f9abdc5088051a5b0c/pymagnitude-0.1.120.tar.gz (5.4MB)\n",
      "\u001b[K    100% |████████████████████████████████| 5.4MB 415kB/s eta 0:00:011\n",
      "\u001b[?25hBuilding wheels for collected packages: pymagnitude\n",
      "  Running setup.py bdist_wheel for pymagnitude ... \u001b[?25ldone\n",
      "\u001b[?25h  Stored in directory: /home/maciej/.cache/pip/wheels/a2/c7/98/cb48b9db35f8d1a7827b764dc36c5515179dc116448a47c8a1\n",
      "Successfully built pymagnitude\n",
      "Installing collected packages: pymagnitude\n",
      "Successfully installed pymagnitude-0.1.120\n"
     ]
    }
   ],
   "source": [
    "!python3.6 -m pip install pymagnitude"
   ]
  },
  {
   "cell_type": "code",
   "execution_count": 1,
   "metadata": {},
   "outputs": [],
   "source": [
    "from pymagnitude import *\n",
    "from scipy.spatial.distance import cityblock, cosine, euclidean\n",
    "from tqdm import tqdm\n",
    "import pandas as pd"
   ]
  },
  {
   "cell_type": "code",
   "execution_count": 2,
   "metadata": {},
   "outputs": [],
   "source": [
    "modelsDir = \"/home/maciej/repos/nlp-2/\"\n",
    "w2v_filtered_file_mag = \"skip_gram_v100m8.w2v.filtered.magnitude\"\n",
    "ft_filtered_file_mag = \"kgr10.plain.skipgram.dim100.neg10.filtered.magnitude\" "
   ]
  },
  {
   "cell_type": "code",
   "execution_count": 3,
   "metadata": {},
   "outputs": [],
   "source": [
    "ft = Magnitude(modelsDir+ft_filtered_file_mag)\n",
    "w2v = Magnitude(modelsDir+w2v_filtered_file_mag)\n",
    "\n",
    "models = dict()\n",
    "models[\"ft\"] = ft\n",
    "models[\"w2v\"] = w2v\n",
    "\n",
    "measures = dict()\n",
    "measures[\"cityblock\"] = cityblock\n",
    "measures[\"cosine\"] = cosine\n",
    "measures[\"euclidean\"] = euclidean"
   ]
  },
  {
   "cell_type": "code",
   "execution_count": 4,
   "metadata": {},
   "outputs": [],
   "source": [
    "def similarity(model, measure, w1, w2):\n",
    "    return 1.0/measure(model.query(w1), model.query(w2))"
   ]
  },
  {
   "cell_type": "code",
   "execution_count": 14,
   "metadata": {},
   "outputs": [],
   "source": [
    "def run_test():\n",
    "    test_data = np.load('test_data.npy')\n",
    "    results = []\n",
    "    for d_id, data in enumerate(test_data):\n",
    "        word_1 = data[0]\n",
    "        word_2 = data[1]\n",
    "        result_ft_cb = similarity(ft, cityblock, word_1, word_2)\n",
    "        result_ft_cos = similarity(ft, cosine, word_1, word_2)\n",
    "        result_ft_eu = similarity(ft, euclidean, word_1, word_2)\n",
    "        result_w2v_cb = similarity(w2v, cityblock, word_1, word_2)\n",
    "        result_w2v_cos = similarity(w2v, cosine, word_1, word_2)\n",
    "        result_w2v_eu = similarity(w2v, euclidean, word_1, word_2)\n",
    "        \n",
    "        results.append([word_1, word_2, result_ft_cb, result_ft_cos, result_ft_eu, result_w2v_cb, result_w2v_cos, result_w2v_eu])\n",
    "    np.save('test_embeddings', results)"
   ]
  },
  {
   "cell_type": "code",
   "execution_count": 15,
   "metadata": {},
   "outputs": [],
   "source": [
    "run_test()"
   ]
  },
  {
   "cell_type": "code",
   "execution_count": 16,
   "metadata": {},
   "outputs": [],
   "source": [
    "def test_corr():\n",
    "    test_data = np.load('test_data.npy')\n",
    "    df_test = pd.DataFrame(test_data, columns = ['word_1', 'word_2', 'simi_base'])\n",
    "    df_test['simi_base'] = df_test['simi_base'].astype(float)\n",
    "    \n",
    "    my_results = np.load('test_embeddings.npy')\n",
    "    df_my_results = pd.DataFrame(my_results, columns = ['word_1', 'word_2', 'fasttext_cityblock', 'fasttext_cosine', 'fasttext_euclidean', 'word2vec_cityblock', 'word2vec_cosine', 'word2vec_euclidean'])\n",
    "    df_my_results['fasttext_cityblock'] = df_my_results['fasttext_cityblock'].astype(float)\n",
    "    df_my_results['fasttext_cosine'] = df_my_results['fasttext_cosine'].astype(float)\n",
    "    df_my_results['fasttext_euclidean'] = df_my_results['fasttext_euclidean'].astype(float)\n",
    "    df_my_results['word2vec_cityblock'] = df_my_results['word2vec_cityblock'].astype(float)\n",
    "    df_my_results['word2vec_cosine'] = df_my_results['word2vec_cosine'].astype(float)\n",
    "    df_my_results['word2vec_euclidean'] = df_my_results['word2vec_euclidean'].astype(float)\n",
    "    \n",
    "    merge = pd.concat([df_test, df_my_results], axis=1, join='inner')[['simi_base', 'fasttext_cityblock', 'fasttext_cosine', 'fasttext_euclidean', 'word2vec_cityblock', 'word2vec_cosine', 'word2vec_euclidean']]\n",
    "    return merge.corr()"
   ]
  },
  {
   "cell_type": "code",
   "execution_count": 17,
   "metadata": {},
   "outputs": [
    {
     "data": {
      "text/html": [
       "<div>\n",
       "<style scoped>\n",
       "    .dataframe tbody tr th:only-of-type {\n",
       "        vertical-align: middle;\n",
       "    }\n",
       "\n",
       "    .dataframe tbody tr th {\n",
       "        vertical-align: top;\n",
       "    }\n",
       "\n",
       "    .dataframe thead th {\n",
       "        text-align: right;\n",
       "    }\n",
       "</style>\n",
       "<table border=\"1\" class=\"dataframe\">\n",
       "  <thead>\n",
       "    <tr style=\"text-align: right;\">\n",
       "      <th></th>\n",
       "      <th>simi_base</th>\n",
       "      <th>fasttext_cityblock</th>\n",
       "      <th>fasttext_cosine</th>\n",
       "      <th>fasttext_euclidean</th>\n",
       "      <th>word2vec_cityblock</th>\n",
       "      <th>word2vec_cosine</th>\n",
       "      <th>word2vec_euclidean</th>\n",
       "    </tr>\n",
       "  </thead>\n",
       "  <tbody>\n",
       "    <tr>\n",
       "      <th>simi_base</th>\n",
       "      <td>1.000000</td>\n",
       "      <td>0.326752</td>\n",
       "      <td>0.218275</td>\n",
       "      <td>0.328461</td>\n",
       "      <td>0.245920</td>\n",
       "      <td>0.177479</td>\n",
       "      <td>0.247366</td>\n",
       "    </tr>\n",
       "    <tr>\n",
       "      <th>fasttext_cityblock</th>\n",
       "      <td>0.326752</td>\n",
       "      <td>1.000000</td>\n",
       "      <td>0.919730</td>\n",
       "      <td>0.994925</td>\n",
       "      <td>0.689833</td>\n",
       "      <td>0.683695</td>\n",
       "      <td>0.697864</td>\n",
       "    </tr>\n",
       "    <tr>\n",
       "      <th>fasttext_cosine</th>\n",
       "      <td>0.218275</td>\n",
       "      <td>0.919730</td>\n",
       "      <td>1.000000</td>\n",
       "      <td>0.928870</td>\n",
       "      <td>0.623891</td>\n",
       "      <td>0.695348</td>\n",
       "      <td>0.632835</td>\n",
       "    </tr>\n",
       "    <tr>\n",
       "      <th>fasttext_euclidean</th>\n",
       "      <td>0.328461</td>\n",
       "      <td>0.994925</td>\n",
       "      <td>0.928870</td>\n",
       "      <td>1.000000</td>\n",
       "      <td>0.689955</td>\n",
       "      <td>0.687694</td>\n",
       "      <td>0.697905</td>\n",
       "    </tr>\n",
       "    <tr>\n",
       "      <th>word2vec_cityblock</th>\n",
       "      <td>0.245920</td>\n",
       "      <td>0.689833</td>\n",
       "      <td>0.623891</td>\n",
       "      <td>0.689955</td>\n",
       "      <td>1.000000</td>\n",
       "      <td>0.957396</td>\n",
       "      <td>0.995669</td>\n",
       "    </tr>\n",
       "    <tr>\n",
       "      <th>word2vec_cosine</th>\n",
       "      <td>0.177479</td>\n",
       "      <td>0.683695</td>\n",
       "      <td>0.695348</td>\n",
       "      <td>0.687694</td>\n",
       "      <td>0.957396</td>\n",
       "      <td>1.000000</td>\n",
       "      <td>0.962950</td>\n",
       "    </tr>\n",
       "    <tr>\n",
       "      <th>word2vec_euclidean</th>\n",
       "      <td>0.247366</td>\n",
       "      <td>0.697864</td>\n",
       "      <td>0.632835</td>\n",
       "      <td>0.697905</td>\n",
       "      <td>0.995669</td>\n",
       "      <td>0.962950</td>\n",
       "      <td>1.000000</td>\n",
       "    </tr>\n",
       "  </tbody>\n",
       "</table>\n",
       "</div>"
      ],
      "text/plain": [
       "                    simi_base  fasttext_cityblock  fasttext_cosine  \\\n",
       "simi_base            1.000000            0.326752         0.218275   \n",
       "fasttext_cityblock   0.326752            1.000000         0.919730   \n",
       "fasttext_cosine      0.218275            0.919730         1.000000   \n",
       "fasttext_euclidean   0.328461            0.994925         0.928870   \n",
       "word2vec_cityblock   0.245920            0.689833         0.623891   \n",
       "word2vec_cosine      0.177479            0.683695         0.695348   \n",
       "word2vec_euclidean   0.247366            0.697864         0.632835   \n",
       "\n",
       "                    fasttext_euclidean  word2vec_cityblock  word2vec_cosine  \\\n",
       "simi_base                     0.328461            0.245920         0.177479   \n",
       "fasttext_cityblock            0.994925            0.689833         0.683695   \n",
       "fasttext_cosine               0.928870            0.623891         0.695348   \n",
       "fasttext_euclidean            1.000000            0.689955         0.687694   \n",
       "word2vec_cityblock            0.689955            1.000000         0.957396   \n",
       "word2vec_cosine               0.687694            0.957396         1.000000   \n",
       "word2vec_euclidean            0.697905            0.995669         0.962950   \n",
       "\n",
       "                    word2vec_euclidean  \n",
       "simi_base                     0.247366  \n",
       "fasttext_cityblock            0.697864  \n",
       "fasttext_cosine               0.632835  \n",
       "fasttext_euclidean            0.697905  \n",
       "word2vec_cityblock            0.995669  \n",
       "word2vec_cosine               0.962950  \n",
       "word2vec_euclidean            1.000000  "
      ]
     },
     "execution_count": 17,
     "metadata": {},
     "output_type": "execute_result"
    }
   ],
   "source": [
    "test_corr()"
   ]
  },
  {
   "cell_type": "code",
   "execution_count": 6,
   "metadata": {},
   "outputs": [],
   "source": [
    "def most_similar(word, k, model, measure):\n",
    "    similars = []\n",
    "    word_vec = model.query(word)\n",
    "    no = 1\n",
    "    max = len(model)\n",
    "    for key, vector in tqdm(model):\n",
    "        progress = no * 100 / max\n",
    "        #print('Progress {}'.format(progress))\n",
    "        #print(similars)\n",
    "        no+=1\n",
    "        key_vec = model.query(key)\n",
    "        distance = measure(word_vec, key_vec)\n",
    "        if len(similars)<k:\n",
    "            similars.append((key, distance))\n",
    "            similars = sorted(similars, key=operator.itemgetter(1))\n",
    "        else:\n",
    "            found=False\n",
    "            i=0\n",
    "            while not found and i<len(similars):\n",
    "                similar = similars[i]\n",
    "                if distance < similar[1] and distance != 0.0:\n",
    "                    similars.insert(i, (key, distance))\n",
    "                    found=True\n",
    "                i+=1\n",
    "            if len(similars) == k+1:\n",
    "                similars = similars[:-1]\n",
    "    return similars"
   ]
  },
  {
   "cell_type": "code",
   "execution_count": 7,
   "metadata": {
    "scrolled": false
   },
   "outputs": [
    {
     "name": "stderr",
     "output_type": "stream",
     "text": [
      " 37%|███▋      | 925433/2502337 [04:02<06:53, 3813.14it/s]"
     ]
    },
    {
     "name": "stdout",
     "output_type": "stream",
     "text": [
      "[('mikrofalówka', 0.09864002466201782), ('zamrażarka', 0.1100584864616394), ('zamrażalka', 0.12743932008743286)]\n"
     ]
    },
    {
     "name": "stderr",
     "output_type": "stream",
     "text": [
      "\n"
     ]
    }
   ],
   "source": [
    "similars = most_similar(\"lodówka\", 3, ft, cosine) # if ends not on 100% it's OK\n",
    "print(\"DONE\")\n",
    "print(similars)"
   ]
  },
  {
   "cell_type": "code",
   "execution_count": null,
   "metadata": {},
   "outputs": [],
   "source": []
  }
 ],
 "metadata": {
  "kernelspec": {
   "display_name": "Python 3",
   "language": "python",
   "name": "python3"
  },
  "language_info": {
   "codemirror_mode": {
    "name": "ipython",
    "version": 3
   },
   "file_extension": ".py",
   "mimetype": "text/x-python",
   "name": "python",
   "nbconvert_exporter": "python",
   "pygments_lexer": "ipython3",
   "version": "3.6.8"
  }
 },
 "nbformat": 4,
 "nbformat_minor": 2
}
