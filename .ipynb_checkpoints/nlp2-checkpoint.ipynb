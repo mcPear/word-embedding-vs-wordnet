{
 "cells": [
  {
   "cell_type": "code",
   "execution_count": 7,
   "metadata": {},
   "outputs": [
    {
     "name": "stdout",
     "output_type": "stream",
     "text": [
      "Collecting pymagnitude\n",
      "  Downloading https://files.pythonhosted.org/packages/0a/a3/b9a34d22ed8c0ed59b00ff55092129641cdfa09d82f9abdc5088051a5b0c/pymagnitude-0.1.120.tar.gz (5.4MB)\n",
      "\u001b[K    100% |████████████████████████████████| 5.4MB 415kB/s eta 0:00:011\n",
      "\u001b[?25hBuilding wheels for collected packages: pymagnitude\n",
      "  Running setup.py bdist_wheel for pymagnitude ... \u001b[?25ldone\n",
      "\u001b[?25h  Stored in directory: /home/maciej/.cache/pip/wheels/a2/c7/98/cb48b9db35f8d1a7827b764dc36c5515179dc116448a47c8a1\n",
      "Successfully built pymagnitude\n",
      "Installing collected packages: pymagnitude\n",
      "Successfully installed pymagnitude-0.1.120\n"
     ]
    }
   ],
   "source": [
    "!python3.6 -m pip install pymagnitude"
   ]
  },
  {
   "cell_type": "code",
   "execution_count": 2,
   "metadata": {},
   "outputs": [],
   "source": [
    "from pymagnitude import *\n",
    "from scipy.spatial.distance import cityblock, cosine, euclidean\n",
    "from tqdm import tqdm"
   ]
  },
  {
   "cell_type": "code",
   "execution_count": 3,
   "metadata": {},
   "outputs": [],
   "source": [
    "modelsDir = \"/home/maciej/repos/nlp-2/\"\n",
    "w2v_filtered_file_mag = \"skip_gram_v100m8.w2v.filtered.magnitude\"\n",
    "ft_filtered_file_mag = \"kgr10.plain.skipgram.dim100.neg10.filtered.magnitude\""
   ]
  },
  {
   "cell_type": "code",
   "execution_count": 4,
   "metadata": {},
   "outputs": [],
   "source": [
    "ft_vectors = Magnitude(modelsDir+ft_filtered_file_mag)\n",
    "w2v_vectors = Magnitude(modelsDir+w2v_filtered_file_mag)\n",
    "\n",
    "models = dict()\n",
    "models[\"ft\"] = ft_vectors\n",
    "models[\"w2v\"] = w2v_vectors\n",
    "\n",
    "measures = dict()\n",
    "measures[\"cityblock\"] = cityblock\n",
    "measures[\"cosine\"] = cosine\n",
    "measures[\"euclidean\"] = euclidean"
   ]
  },
  {
   "cell_type": "code",
   "execution_count": 5,
   "metadata": {},
   "outputs": [
    {
     "name": "stdout",
     "output_type": "stream",
     "text": [
      "Test for ft model and cityblock measure:\n",
      "9.575574\n",
      "Test for ft model and cosine measure:\n",
      "0.69649538397789\n",
      "Test for ft model and euclidean measure:\n",
      "1.1802505254745483\n",
      "Test for w2v model and cityblock measure:\n",
      "9.575574\n",
      "Test for w2v model and cosine measure:\n",
      "0.69649538397789\n",
      "Test for w2v model and euclidean measure:\n",
      "1.1802505254745483\n"
     ]
    }
   ],
   "source": [
    "def test(model, measure):\n",
    "    s1 = \"lodówka\"\n",
    "    s2 = \"lodowisko\"\n",
    "    return measure(model.query(s1), model.query(s2))\n",
    "\n",
    "for model_str in [\"ft\", \"w2v\"]:\n",
    "    model=models[model_str]\n",
    "    for measure_str in [\"cityblock\", \"cosine\", \"euclidean\"]:\n",
    "        measure=measures[measure_str]\n",
    "        print('Test for {} model and {} measure:'.format(model_str, measure_str))\n",
    "        print(test(model, measure))"
   ]
  },
  {
   "cell_type": "code",
   "execution_count": 6,
   "metadata": {},
   "outputs": [],
   "source": [
    "def most_similar(word, k, model, measure):\n",
    "    similars = []\n",
    "    word_vec = model.query(word)\n",
    "    no = 1\n",
    "    max = len(model)\n",
    "    for key, vector in tqdm(model):\n",
    "        progress = no * 100 / max\n",
    "        #print('Progress {}'.format(progress))\n",
    "        #print(similars)\n",
    "        no+=1\n",
    "        key_vec = model.query(key)\n",
    "        distance = measure(word_vec, key_vec)\n",
    "        if len(similars)<k:\n",
    "            similars.append((key, distance))\n",
    "            similars = sorted(similars, key=operator.itemgetter(1))\n",
    "        else:\n",
    "            found=False\n",
    "            i=0\n",
    "            while not found and i<len(similars):\n",
    "                similar = similars[i]\n",
    "                if distance < similar[1] and distance != 0.0:\n",
    "                    similars.insert(i, (key, distance))\n",
    "                    found=True\n",
    "                i+=1\n",
    "            if len(similars) == k+1:\n",
    "                similars = similars[:-1]\n",
    "    return similars"
   ]
  },
  {
   "cell_type": "code",
   "execution_count": 7,
   "metadata": {
    "scrolled": false
   },
   "outputs": [
    {
     "name": "stderr",
     "output_type": "stream",
     "text": [
      " 37%|███▋      | 925433/2502337 [04:02<06:53, 3813.14it/s]"
     ]
    },
    {
     "name": "stdout",
     "output_type": "stream",
     "text": [
      "[('mikrofalówka', 0.09864002466201782), ('zamrażarka', 0.1100584864616394), ('zamrażalka', 0.12743932008743286)]\n"
     ]
    },
    {
     "name": "stderr",
     "output_type": "stream",
     "text": [
      "\n"
     ]
    }
   ],
   "source": [
    "similars = most_similar(\"lodówka\", 3, ft_vectors, cosine) # if ends not on 100% it's OK\n",
    "print(\"DONE\")\n",
    "print(similars)"
   ]
  },
  {
   "cell_type": "code",
   "execution_count": null,
   "metadata": {},
   "outputs": [],
   "source": []
  }
 ],
 "metadata": {
  "kernelspec": {
   "display_name": "Python 3",
   "language": "python",
   "name": "python3"
  },
  "language_info": {
   "codemirror_mode": {
    "name": "ipython",
    "version": 3
   },
   "file_extension": ".py",
   "mimetype": "text/x-python",
   "name": "python",
   "nbconvert_exporter": "python",
   "pygments_lexer": "ipython3",
   "version": "3.6.8"
  }
 },
 "nbformat": 4,
 "nbformat_minor": 2
}
